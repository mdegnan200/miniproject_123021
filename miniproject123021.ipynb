{
  "nbformat": 4,
  "nbformat_minor": 0,
  "metadata": {
    "colab": {
      "name": "miniproject123021.ipynb",
      "provenance": [],
      "collapsed_sections": [],
      "authorship_tag": "ABX9TyOopYoO1q5s2srxJPUTi8mx",
      "include_colab_link": true
    },
    "kernelspec": {
      "name": "python3",
      "display_name": "Python 3"
    },
    "language_info": {
      "name": "python"
    }
  },
  "cells": [
    {
      "cell_type": "markdown",
      "metadata": {
        "id": "view-in-github",
        "colab_type": "text"
      },
      "source": [
        "<a href=\"https://colab.research.google.com/github/mdegnan200/miniproject_123021/blob/main/miniproject123021.ipynb\" target=\"_parent\"><img src=\"https://colab.research.google.com/assets/colab-badge.svg\" alt=\"Open In Colab\"/></a>"
      ]
    },
    {
      "cell_type": "code",
      "execution_count": 1,
      "metadata": {
        "colab": {
          "base_uri": "https://localhost:8080/"
        },
        "id": "01nLipIjQLUA",
        "outputId": "9cf5a306-f8fd-4e33-d946-53a10db45c71"
      },
      "outputs": [
        {
          "name": "stdout",
          "output_type": "stream",
          "text": [
            "Player 1 Please pick Rock, Paper or Scissor.  Please type quit if you are done with game. rock\n",
            "Player 2 Please pick Rock, Paper or Scissor.  Please type quit if you are done with game. paper\n",
            "Player 2 Wins!  Paper BEATS Rock.  ***Player 1 entered: rock      ***Player 2 entered: paper\n",
            "Player 1 Please pick Rock, Paper or Scissor.  Please type quit if you are done with game. paper\n",
            "Player 2 Please pick Rock, Paper or Scissor.  Please type quit if you are done with game. scissor\n",
            "Player 2 Wins!  Scissor BEATS Paper.  ***Player 1 entered: paper      ***Player 2 entered: scissor\n",
            "Player 1 Please pick Rock, Paper or Scissor.  Please type quit if you are done with game. rock\n",
            "Player 2 Please pick Rock, Paper or Scissor.  Please type quit if you are done with game. scissor\n",
            "Player 1 Wins!  Rock BEATS Scissor.  ***Player 1 entered: rock      ***Player 2 entered: scissor\n",
            "Player 1 Please pick Rock, Paper or Scissor.  Please type quit if you are done with game. rrr\n",
            "Player 2 Please pick Rock, Paper or Scissor.  Please type quit if you are done with game. scissor\n",
            "No One Wins!!  A Player 1 entered an invlaid response.   ***Player 1 entered: rrr\n",
            "Player 1 Please pick Rock, Paper or Scissor.  Please type quit if you are done with game. rod\n",
            "Player 2 Please pick Rock, Paper or Scissor.  Please type quit if you are done with game. eer\n",
            "No One Wins!!  A Player 1 entered an invlaid response.   ***Player 1 entered: rod\n",
            "No One Wins!!  A Player 2 entered an invlaid response.  ***Player2 entered: eer\n",
            "Player 1 Please pick Rock, Paper or Scissor.  Please type quit if you are done with game. ROCL\n",
            "Player 2 Please pick Rock, Paper or Scissor.  Please type quit if you are done with game. PAPER\n",
            "No One Wins!!  A Player 1 entered an invlaid response.   ***Player 1 entered: ROCL\n",
            "Player 1 Please pick Rock, Paper or Scissor.  Please type quit if you are done with game. ROCK\n",
            "Player 2 Please pick Rock, Paper or Scissor.  Please type quit if you are done with game. PAPER\n",
            "Player 2 Wins!  Paper BEATS Rock.  ***Player 1 entered: ROCK      ***Player 2 entered: PAPER\n",
            "Player 1 Please pick Rock, Paper or Scissor.  Please type quit if you are done with game. PAPER\n",
            "Player 2 Please pick Rock, Paper or Scissor.  Please type quit if you are done with game. ROCK\n",
            "Player 1 Wins!  Paper BEATS Rock.  ***Player 1 entered: PAPER      ***Player 2 entered: ROCK\n",
            "Player 1 Please pick Rock, Paper or Scissor.  Please type quit if you are done with game. SCISSOR\n",
            "Player 2 Please pick Rock, Paper or Scissor.  Please type quit if you are done with game. PAPER\n",
            "Player 1 Wins!  Scissor BEATS Paper.  ***Player 1 entered: SCISSOR      ***Player 2 entered: PAPER\n",
            "Player 1 Please pick Rock, Paper or Scissor.  Please type quit if you are done with game. PAPER\n",
            "Player 2 Please pick Rock, Paper or Scissor.  Please type quit if you are done with game. ROCK\n",
            "Player 1 Wins!  Paper BEATS Rock.  ***Player 1 entered: PAPER      ***Player 2 entered: ROCK\n",
            "Player 1 Please pick Rock, Paper or Scissor.  Please type quit if you are done with game. quit\n"
          ]
        }
      ],
      "source": [
        "def input_same(): \n",
        "  \"\"\"This function returns a message if both players enter the same option: rock, paper or scissor\"\"\"\n",
        "  if usr_command1.upper() == usr_command2.upper():\n",
        "    print(\"Both players entered the same response: \" + usr_command1.upper() + \" NO WINNER, Please select again.\")\n",
        "\n",
        "def paper(): \n",
        "  \"\"\"This function returns a message if one player has paper and the other has rock\"\"\"\n",
        "  if usr_command1.upper() == \"PAPER\" and usr_command2.upper() == \"ROCK\":\n",
        "    print(\"Player 1 Wins!  Paper BEATS Rock.  ***Player 1 entered: \" + usr_command1 + \"      ***Player 2 entered: \" + usr_command2)\n",
        "  if usr_command2.upper() == \"PAPER\" and usr_command1.upper() == \"ROCK\":\n",
        "    print(\"Player 2 Wins!  Paper BEATS Rock.  ***Player 1 entered: \" + usr_command1 + \"      ***Player 2 entered: \" + usr_command2)\n",
        "\n",
        "def rock(): \n",
        "  \"\"\"This function returns a message if one player has rock and the other has scissor\"\"\"\n",
        "  if usr_command1.upper() == \"ROCK\" and usr_command2.upper() == \"SCISSOR\":\n",
        "    print(\"Player 1 Wins!  Rock BEATS Scissor.  ***Player 1 entered: \" + usr_command1 + \"      ***Player 2 entered: \" + usr_command2)\n",
        "  if usr_command2.upper() == \"ROCK\" and usr_command1.upper() == \"SCISSOR\":\n",
        "    print(\"Player 2 Wins!  Rock BEATS Scissor.  ***Player 1 entered: \" + usr_command1 + \"      ***Player 2 entered: \" + usr_command2)\n",
        "\n",
        "def scissor(): \n",
        "  \"\"\"This function returns a message if one players has scissor and the other has paper\"\"\"\n",
        "  if usr_command1.upper() == \"SCISSOR\" and usr_command2.upper() == \"PAPER\":\n",
        "    print(\"Player 1 Wins!  Scissor BEATS Paper.  ***Player 1 entered: \" + usr_command1 + \"      ***Player 2 entered: \" + usr_command2)\n",
        "  if usr_command2.upper() == \"SCISSOR\" and usr_command1.upper() == \"PAPER\":\n",
        "    print(\"Player 2 Wins!  Scissor BEATS Paper.  ***Player 1 entered: \" + usr_command1 + \"      ***Player 2 entered: \" + usr_command2)\n",
        "\n",
        "def invalid_entry(): \n",
        "  \"\"\"This function returns a message if either player has an invalid entry\"\"\"\n",
        "  if usr_command1.upper() != \"SCISSOR\":\n",
        "    if usr_command1.upper() != \"PAPER\":\n",
        "      if usr_command1.upper() != \"ROCK\":\n",
        "        print(\"No One Wins!!  A Player 1 entered an invalid response.   ***Player 1 entered: \" + usr_command1)\n",
        "  if usr_command2.upper() != \"PAPER\":\n",
        "    if usr_command2.upper() != \"ROCK\":\n",
        "      if usr_command2.upper() != \"SCISSOR\":\n",
        "        print(\"No One Wins!!  A Player 2 entered an invalid response.  ***Player2 entered: \" + usr_command2)\n",
        "        \n",
        "while True: \n",
        "    usr_command1 = input(\"Player 1 Please pick Rock, Paper or Scissor.  Please type quit if you are done with game. \")\n",
        "    if usr_command1 == \"quit\":\n",
        "      break\n",
        "    usr_command2 = input(\"Player 2 Please pick Rock, Paper or Scissor.  Please type quit if you are done with game. \")\n",
        "    if usr_command2 == \"quit\":\n",
        "        break\n",
        "    input_same()\n",
        "    paper()\n",
        "    rock()\n",
        "    scissor()\n",
        "    invalid_entry()"
      ]
    },
    {
      "cell_type": "code",
      "source": [
        ""
      ],
      "metadata": {
        "id": "5Us35AQnFJZ9"
      },
      "execution_count": null,
      "outputs": []
    },
    {
      "cell_type": "markdown",
      "source": [
        ""
      ],
      "metadata": {
        "id": "P2HVG04IFLX8"
      }
    },
    {
      "cell_type": "code",
      "source": [
        ""
      ],
      "metadata": {
        "id": "CVG2qflTFL88"
      },
      "execution_count": null,
      "outputs": []
    },
    {
      "cell_type": "code",
      "source": [
        ""
      ],
      "metadata": {
        "id": "10jMtAU4FMWN"
      },
      "execution_count": null,
      "outputs": []
    }
  ]
}